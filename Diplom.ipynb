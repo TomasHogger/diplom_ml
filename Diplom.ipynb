{
  "nbformat": 4,
  "nbformat_minor": 0,
  "metadata": {
    "colab": {
      "name": "Diplom.ipynb",
      "provenance": [],
      "collapsed_sections": []
    },
    "kernelspec": {
      "display_name": "Python 3",
      "name": "python3"
    },
    "language_info": {
      "name": "python"
    },
    "accelerator": "GPU"
  },
  "cells": [
    {
      "cell_type": "code",
      "metadata": {
        "id": "mqco8fgnGilA"
      },
      "source": [
        "!rm -r /content/sample_data/"
      ],
      "execution_count": 1,
      "outputs": []
    },
    {
      "cell_type": "code",
      "metadata": {
        "colab": {
          "base_uri": "https://localhost:8080/"
        },
        "id": "pkMsXMuCGLcP",
        "outputId": "ea68b747-b2e9-40fd-c959-0360cba8d925"
      },
      "source": [
        "from google.colab import drive\n",
        "drive.mount('/content/drive')"
      ],
      "execution_count": 2,
      "outputs": [
        {
          "output_type": "stream",
          "text": [
            "Mounted at /content/drive\n"
          ],
          "name": "stdout"
        }
      ]
    },
    {
      "cell_type": "code",
      "metadata": {
        "id": "RdsNWm_8PKXn"
      },
      "source": [
        "path = '/content/drive/MyDrive/colab_data/diplom/'\n",
        "path_data = path + 'data/'"
      ],
      "execution_count": 3,
      "outputs": []
    },
    {
      "cell_type": "code",
      "metadata": {
        "id": "esBuzQotGnLZ"
      },
      "source": [
        "# Раскомментировать, если данные упакованы в zip архив\n",
        "\n",
        "# !unzip $path_data'train.zip' -d $path_data\n",
        "# !unzip $path_data'test_kaggle.zip' -d $path_data\n",
        "# !unzip $path_data'skillbox-computer-vision-project.zip' -d $path_data''"
      ],
      "execution_count": null,
      "outputs": []
    },
    {
      "cell_type": "code",
      "metadata": {
        "id": "qzlxQ2_sF1tn"
      },
      "source": [
        "import matplotlib.pyplot as plt\n",
        "import numpy as np\n",
        "import pandas as pd\n",
        "import tensorflow as tf\n",
        "\n",
        "import os\n",
        "\n",
        "from tensorflow.keras import Model\n",
        "from tensorflow.keras.preprocessing.image import ImageDataGenerator\n",
        "from tensorflow.keras.preprocessing.image import load_img\n",
        "\n",
        "from tensorflow.keras.models import Sequential\n",
        "from tensorflow.keras.layers import Dense, Dropout, Flatten\n",
        "from tensorflow.keras.layers import Conv2D\n",
        "from tensorflow.keras.optimizers import Adam\n",
        "from tensorflow.keras.layers import MaxPooling2D\n",
        "from tensorflow.keras.callbacks import ModelCheckpoint\n",
        "from tensorflow.python.compiler.tensorrt import trt_convert as trt"
      ],
      "execution_count": 4,
      "outputs": []
    },
    {
      "cell_type": "code",
      "metadata": {
        "id": "-xUSt-GpHqO1"
      },
      "source": [
        "# Добавляем классы в словарь\n",
        "classes = {0: 'anger',\\\n",
        "           1: 'contempt',\\\n",
        "           2: 'disgust',\\\n",
        "           3: 'fear',\\\n",
        "           4: 'happy',\\\n",
        "           5: 'neutral',\\\n",
        "           6: 'sad',\\\n",
        "           7: 'surprise',\n",
        "           8: 'uncertain'}"
      ],
      "execution_count": 5,
      "outputs": []
    },
    {
      "cell_type": "code",
      "metadata": {
        "id": "-_zI-xez9sdt"
      },
      "source": [
        "#Константы\n",
        "\n",
        "BATCH_SIZE = 128\n",
        "IMG_SIZE = 48\n",
        "EPOCHS = 130\n",
        "STEPS_PER_EPOCH = 60"
      ],
      "execution_count": 7,
      "outputs": []
    },
    {
      "cell_type": "code",
      "metadata": {
        "id": "anxd5zn3B2NA"
      },
      "source": [
        "#Модель\n",
        "\n",
        "model = Sequential()\n",
        "\n",
        "model.add(Conv2D(32, kernel_size=(3, 3), activation='relu', input_shape=(IMG_SIZE,IMG_SIZE,1)))\n",
        "model.add(Conv2D(64, kernel_size=(3, 3), activation='relu'))\n",
        "model.add(MaxPooling2D(pool_size=(2, 2)))\n",
        "model.add(Dropout(0.25))\n",
        "\n",
        "model.add(Conv2D(128, kernel_size=(3, 3), activation='relu'))\n",
        "model.add(MaxPooling2D(pool_size=(2, 2)))\n",
        "model.add(Conv2D(128, kernel_size=(3, 3), activation='relu'))\n",
        "model.add(MaxPooling2D(pool_size=(2, 2)))\n",
        "model.add(Dropout(0.25))\n",
        "\n",
        "model.add(Flatten())\n",
        "model.add(Dense(1024, activation='relu'))\n",
        "model.add(Dropout(0.5))\n",
        "\n",
        "# model.add(Dense(7, activation='softmax'))\n",
        "# model.load_weights(path + 'model.h5')\n",
        "# model.pop()\n",
        "\n",
        "model.add(Dense(9, activation='softmax'))\n",
        "\n",
        "model.load_weights(path + 'mdl_wts.hdf5')\n",
        "\n",
        "#На случай, если необходимо заморозить слои\n",
        "# for l in model.layers[:-1]:\n",
        "  # l.trainable = False"
      ],
      "execution_count": 8,
      "outputs": []
    },
    {
      "cell_type": "code",
      "metadata": {
        "colab": {
          "base_uri": "https://localhost:8080/"
        },
        "id": "ROS92NDoz8qI",
        "outputId": "45b02344-bd0b-4557-af0b-d5e52317e332"
      },
      "source": [
        "model.summary()"
      ],
      "execution_count": 9,
      "outputs": [
        {
          "output_type": "stream",
          "text": [
            "Model: \"sequential\"\n",
            "_________________________________________________________________\n",
            "Layer (type)                 Output Shape              Param #   \n",
            "=================================================================\n",
            "conv2d (Conv2D)              (None, 46, 46, 32)        320       \n",
            "_________________________________________________________________\n",
            "conv2d_1 (Conv2D)            (None, 44, 44, 64)        18496     \n",
            "_________________________________________________________________\n",
            "max_pooling2d (MaxPooling2D) (None, 22, 22, 64)        0         \n",
            "_________________________________________________________________\n",
            "dropout (Dropout)            (None, 22, 22, 64)        0         \n",
            "_________________________________________________________________\n",
            "conv2d_2 (Conv2D)            (None, 20, 20, 128)       73856     \n",
            "_________________________________________________________________\n",
            "max_pooling2d_1 (MaxPooling2 (None, 10, 10, 128)       0         \n",
            "_________________________________________________________________\n",
            "conv2d_3 (Conv2D)            (None, 8, 8, 128)         147584    \n",
            "_________________________________________________________________\n",
            "max_pooling2d_2 (MaxPooling2 (None, 4, 4, 128)         0         \n",
            "_________________________________________________________________\n",
            "dropout_1 (Dropout)          (None, 4, 4, 128)         0         \n",
            "_________________________________________________________________\n",
            "flatten (Flatten)            (None, 2048)              0         \n",
            "_________________________________________________________________\n",
            "dense (Dense)                (None, 1024)              2098176   \n",
            "_________________________________________________________________\n",
            "dropout_2 (Dropout)          (None, 1024)              0         \n",
            "_________________________________________________________________\n",
            "dense_1 (Dense)              (None, 9)                 9225      \n",
            "=================================================================\n",
            "Total params: 2,347,657\n",
            "Trainable params: 2,347,657\n",
            "Non-trainable params: 0\n",
            "_________________________________________________________________\n"
          ],
          "name": "stdout"
        }
      ]
    },
    {
      "cell_type": "code",
      "metadata": {
        "colab": {
          "base_uri": "https://localhost:8080/"
        },
        "id": "mkr-tSyaIMar",
        "outputId": "a8f3b8e6-e002-4866-aa8d-93f310a64cba"
      },
      "source": [
        "# Создаём поток из фотографий\n",
        "train_datagen = ImageDataGenerator(rescale=1./255)\n",
        "\n",
        "train_generator = train_datagen.flow_from_directory(\n",
        "        path_data+'train',\n",
        "        target_size=(IMG_SIZE,IMG_SIZE),\n",
        "        batch_size=BATCH_SIZE,\n",
        "        color_mode=\"grayscale\",\n",
        "        class_mode='categorical')"
      ],
      "execution_count": 10,
      "outputs": [
        {
          "output_type": "stream",
          "text": [
            "Found 50046 images belonging to 9 classes.\n"
          ],
          "name": "stdout"
        }
      ]
    },
    {
      "cell_type": "code",
      "metadata": {
        "colab": {
          "base_uri": "https://localhost:8080/"
        },
        "id": "g1JrYyNbv-Cr",
        "outputId": "0200e7ef-dcd0-4401-810c-872f04c93453"
      },
      "source": [
        "# Обучаем и сохраняем веса модели\n",
        "mcp = ModelCheckpoint(path + 'mdl_wts.hdf5',\\\n",
        "                      save_best_only=True,\\\n",
        "                      monitor='accuracy')\n",
        "opt = Adam(lr=0.0001, decay=1e-6)\n",
        "\n",
        "\n",
        "model.compile(loss='categorical_crossentropy',\\\n",
        "              optimizer=opt,\\\n",
        "              metrics=['accuracy'])\n",
        "model.fit(train_generator,\\\n",
        "          epochs=EPOCHS,\\\n",
        "          steps_per_epoch=STEPS_PER_EPOCH,\\\n",
        "          callbacks=[mcp])"
      ],
      "execution_count": 11,
      "outputs": [
        {
          "output_type": "stream",
          "text": [
            "/usr/local/lib/python3.7/dist-packages/tensorflow/python/keras/optimizer_v2/optimizer_v2.py:375: UserWarning: The `lr` argument is deprecated, use `learning_rate` instead.\n",
            "  \"The `lr` argument is deprecated, use `learning_rate` instead.\")\n"
          ],
          "name": "stderr"
        },
        {
          "output_type": "stream",
          "text": [
            "Epoch 1/130\n",
            "60/60 [==============================] - 1572s 26s/step - loss: 0.6040 - accuracy: 0.7858\n",
            "Epoch 2/130\n",
            "60/60 [==============================] - 1343s 22s/step - loss: 0.6068 - accuracy: 0.7901\n",
            "Epoch 3/130\n",
            "60/60 [==============================] - 1129s 19s/step - loss: 0.5998 - accuracy: 0.7865\n",
            "Epoch 4/130\n",
            "60/60 [==============================] - 968s 16s/step - loss: 0.5885 - accuracy: 0.7910\n",
            "Epoch 5/130\n",
            "60/60 [==============================] - 806s 13s/step - loss: 0.5894 - accuracy: 0.7894\n",
            "Epoch 6/130\n",
            "60/60 [==============================] - 692s 12s/step - loss: 0.6208 - accuracy: 0.7802\n",
            "Epoch 7/130\n",
            "60/60 [==============================] - 588s 10s/step - loss: 0.5883 - accuracy: 0.7927\n",
            "Epoch 8/130\n",
            "60/60 [==============================] - 514s 9s/step - loss: 0.6060 - accuracy: 0.7846\n",
            "Epoch 9/130\n",
            "60/60 [==============================] - 438s 7s/step - loss: 0.6001 - accuracy: 0.7836\n",
            "Epoch 10/130\n",
            "60/60 [==============================] - 378s 6s/step - loss: 0.5995 - accuracy: 0.7895\n",
            "Epoch 11/130\n",
            "60/60 [==============================] - 317s 5s/step - loss: 0.5855 - accuracy: 0.7937\n",
            "Epoch 12/130\n",
            "60/60 [==============================] - 278s 5s/step - loss: 0.5952 - accuracy: 0.7904\n",
            "Epoch 13/130\n",
            "60/60 [==============================] - 258s 4s/step - loss: 0.5927 - accuracy: 0.7923\n",
            "Epoch 14/130\n",
            "60/60 [==============================] - 215s 4s/step - loss: 0.5934 - accuracy: 0.7959\n",
            "Epoch 15/130\n",
            "60/60 [==============================] - 195s 3s/step - loss: 0.5901 - accuracy: 0.7877\n",
            "Epoch 16/130\n",
            "60/60 [==============================] - 166s 3s/step - loss: 0.5904 - accuracy: 0.7853\n",
            "Epoch 17/130\n",
            "60/60 [==============================] - 153s 3s/step - loss: 0.5757 - accuracy: 0.7971\n",
            "Epoch 18/130\n",
            "60/60 [==============================] - 135s 2s/step - loss: 0.5927 - accuracy: 0.7841\n",
            "Epoch 19/130\n",
            "60/60 [==============================] - 126s 2s/step - loss: 0.5720 - accuracy: 0.7997\n",
            "Epoch 20/130\n",
            "60/60 [==============================] - 114s 2s/step - loss: 0.5844 - accuracy: 0.7936\n",
            "Epoch 21/130\n",
            "60/60 [==============================] - 101s 2s/step - loss: 0.5723 - accuracy: 0.8010\n",
            "Epoch 22/130\n",
            "60/60 [==============================] - 97s 2s/step - loss: 0.5835 - accuracy: 0.7958\n",
            "Epoch 23/130\n",
            "60/60 [==============================] - 95s 2s/step - loss: 0.5936 - accuracy: 0.7893\n",
            "Epoch 24/130\n",
            "60/60 [==============================] - 89s 1s/step - loss: 0.5765 - accuracy: 0.7947\n",
            "Epoch 25/130\n",
            "60/60 [==============================] - 79s 1s/step - loss: 0.5891 - accuracy: 0.7898\n",
            "Epoch 26/130\n",
            "60/60 [==============================] - 77s 1s/step - loss: 0.5704 - accuracy: 0.7983\n",
            "Epoch 27/130\n",
            "60/60 [==============================] - 79s 1s/step - loss: 0.5496 - accuracy: 0.8062\n",
            "Epoch 28/130\n",
            "60/60 [==============================] - 71s 1s/step - loss: 0.5978 - accuracy: 0.7842\n",
            "Epoch 29/130\n",
            "60/60 [==============================] - 70s 1s/step - loss: 0.5844 - accuracy: 0.7971\n",
            "Epoch 30/130\n",
            "60/60 [==============================] - 66s 1s/step - loss: 0.5812 - accuracy: 0.7923\n",
            "Epoch 31/130\n",
            "60/60 [==============================] - 70s 1s/step - loss: 0.5704 - accuracy: 0.8047\n",
            "Epoch 32/130\n",
            "60/60 [==============================] - 64s 1s/step - loss: 0.5697 - accuracy: 0.8013\n",
            "Epoch 33/130\n",
            "60/60 [==============================] - 63s 1s/step - loss: 0.5710 - accuracy: 0.7933\n",
            "Epoch 34/130\n",
            "60/60 [==============================] - 63s 1s/step - loss: 0.5669 - accuracy: 0.8026\n",
            "Epoch 35/130\n",
            "60/60 [==============================] - 63s 1s/step - loss: 0.5674 - accuracy: 0.8001\n",
            "Epoch 36/130\n",
            "60/60 [==============================] - 61s 1s/step - loss: 0.5571 - accuracy: 0.8029\n",
            "Epoch 37/130\n",
            "60/60 [==============================] - 60s 1s/step - loss: 0.5665 - accuracy: 0.8010\n",
            "Epoch 38/130\n",
            "60/60 [==============================] - 59s 988ms/step - loss: 0.5634 - accuracy: 0.8065\n",
            "Epoch 39/130\n",
            "60/60 [==============================] - 60s 1s/step - loss: 0.5550 - accuracy: 0.8049\n",
            "Epoch 40/130\n",
            "60/60 [==============================] - 61s 1s/step - loss: 0.5565 - accuracy: 0.8079\n",
            "Epoch 41/130\n",
            "60/60 [==============================] - 59s 992ms/step - loss: 0.5733 - accuracy: 0.8035\n",
            "Epoch 42/130\n",
            "60/60 [==============================] - 56s 933ms/step - loss: 0.5510 - accuracy: 0.8035\n",
            "Epoch 43/130\n",
            "60/60 [==============================] - 57s 943ms/step - loss: 0.5398 - accuracy: 0.8089\n",
            "Epoch 44/130\n",
            "60/60 [==============================] - 56s 932ms/step - loss: 0.5680 - accuracy: 0.7951\n",
            "Epoch 45/130\n",
            "60/60 [==============================] - 59s 980ms/step - loss: 0.5480 - accuracy: 0.8082\n",
            "Epoch 46/130\n",
            "60/60 [==============================] - 57s 956ms/step - loss: 0.5506 - accuracy: 0.8083\n",
            "Epoch 47/130\n",
            "60/60 [==============================] - 55s 923ms/step - loss: 0.5552 - accuracy: 0.8062\n",
            "Epoch 48/130\n",
            "60/60 [==============================] - 57s 957ms/step - loss: 0.5618 - accuracy: 0.8021\n",
            "Epoch 49/130\n",
            "60/60 [==============================] - 57s 948ms/step - loss: 0.5554 - accuracy: 0.8010\n",
            "Epoch 50/130\n",
            "60/60 [==============================] - 56s 925ms/step - loss: 0.5432 - accuracy: 0.8098\n",
            "Epoch 51/130\n",
            "60/60 [==============================] - 57s 951ms/step - loss: 0.5394 - accuracy: 0.8115\n",
            "Epoch 52/130\n",
            "60/60 [==============================] - 60s 988ms/step - loss: 0.5643 - accuracy: 0.7997\n",
            "Epoch 53/130\n",
            "60/60 [==============================] - 59s 985ms/step - loss: 0.5485 - accuracy: 0.8141\n",
            "Epoch 54/130\n",
            "60/60 [==============================] - 59s 981ms/step - loss: 0.5525 - accuracy: 0.8036\n",
            "Epoch 55/130\n",
            "60/60 [==============================] - 58s 969ms/step - loss: 0.5653 - accuracy: 0.8055\n",
            "Epoch 56/130\n",
            "60/60 [==============================] - 59s 978ms/step - loss: 0.5265 - accuracy: 0.8117\n",
            "Epoch 57/130\n",
            "60/60 [==============================] - 54s 899ms/step - loss: 0.5399 - accuracy: 0.8141\n",
            "Epoch 58/130\n",
            "60/60 [==============================] - 58s 972ms/step - loss: 0.5268 - accuracy: 0.8159\n",
            "Epoch 59/130\n",
            "60/60 [==============================] - 59s 986ms/step - loss: 0.5340 - accuracy: 0.8094\n",
            "Epoch 60/130\n",
            "60/60 [==============================] - 56s 926ms/step - loss: 0.5466 - accuracy: 0.8101\n",
            "Epoch 61/130\n",
            "60/60 [==============================] - 56s 926ms/step - loss: 0.5340 - accuracy: 0.8105\n",
            "Epoch 62/130\n",
            "60/60 [==============================] - 56s 930ms/step - loss: 0.5464 - accuracy: 0.8051\n",
            "Epoch 63/130\n",
            "60/60 [==============================] - 57s 954ms/step - loss: 0.5306 - accuracy: 0.8095\n",
            "Epoch 64/130\n",
            "60/60 [==============================] - 58s 968ms/step - loss: 0.5509 - accuracy: 0.8017\n",
            "Epoch 65/130\n",
            "60/60 [==============================] - 55s 913ms/step - loss: 0.5459 - accuracy: 0.8099\n",
            "Epoch 66/130\n",
            "60/60 [==============================] - 55s 919ms/step - loss: 0.5360 - accuracy: 0.8105\n",
            "Epoch 67/130\n",
            "60/60 [==============================] - 59s 983ms/step - loss: 0.5392 - accuracy: 0.8138\n",
            "Epoch 68/130\n",
            "60/60 [==============================] - 58s 965ms/step - loss: 0.5291 - accuracy: 0.8164\n",
            "Epoch 69/130\n",
            "60/60 [==============================] - 57s 951ms/step - loss: 0.5277 - accuracy: 0.8203\n",
            "Epoch 70/130\n",
            "60/60 [==============================] - 57s 950ms/step - loss: 0.5151 - accuracy: 0.8165\n",
            "Epoch 71/130\n",
            "60/60 [==============================] - 56s 928ms/step - loss: 0.5356 - accuracy: 0.8137\n",
            "Epoch 72/130\n",
            "60/60 [==============================] - 58s 970ms/step - loss: 0.5468 - accuracy: 0.8055\n",
            "Epoch 73/130\n",
            "60/60 [==============================] - 57s 958ms/step - loss: 0.5461 - accuracy: 0.8059\n",
            "Epoch 74/130\n",
            "60/60 [==============================] - 57s 953ms/step - loss: 0.5442 - accuracy: 0.8070\n",
            "Epoch 75/130\n",
            "60/60 [==============================] - 56s 942ms/step - loss: 0.5198 - accuracy: 0.8123\n",
            "Epoch 76/130\n",
            "60/60 [==============================] - 60s 997ms/step - loss: 0.5344 - accuracy: 0.8127\n",
            "Epoch 77/130\n",
            "60/60 [==============================] - 59s 969ms/step - loss: 0.5162 - accuracy: 0.8189\n",
            "Epoch 78/130\n",
            "60/60 [==============================] - 61s 1s/step - loss: 0.5429 - accuracy: 0.8111\n",
            "Epoch 79/130\n",
            "60/60 [==============================] - 58s 964ms/step - loss: 0.5343 - accuracy: 0.8130\n",
            "Epoch 80/130\n",
            "60/60 [==============================] - 58s 961ms/step - loss: 0.5317 - accuracy: 0.8173\n",
            "Epoch 81/130\n",
            "60/60 [==============================] - 56s 938ms/step - loss: 0.5330 - accuracy: 0.8152\n",
            "Epoch 82/130\n",
            "60/60 [==============================] - 57s 955ms/step - loss: 0.5294 - accuracy: 0.8109\n",
            "Epoch 83/130\n",
            "60/60 [==============================] - 55s 917ms/step - loss: 0.5217 - accuracy: 0.8125\n",
            "Epoch 84/130\n",
            "60/60 [==============================] - 57s 942ms/step - loss: 0.5242 - accuracy: 0.8152\n",
            "Epoch 85/130\n",
            "60/60 [==============================] - 58s 966ms/step - loss: 0.5148 - accuracy: 0.8191\n",
            "Epoch 86/130\n",
            "60/60 [==============================] - 57s 953ms/step - loss: 0.5103 - accuracy: 0.8214\n",
            "Epoch 87/130\n",
            "60/60 [==============================] - 58s 971ms/step - loss: 0.5155 - accuracy: 0.8190\n",
            "Epoch 88/130\n",
            "60/60 [==============================] - 57s 952ms/step - loss: 0.5213 - accuracy: 0.8166\n",
            "Epoch 89/130\n",
            "60/60 [==============================] - 57s 946ms/step - loss: 0.5122 - accuracy: 0.8214\n",
            "Epoch 90/130\n",
            "60/60 [==============================] - 60s 1s/step - loss: 0.5311 - accuracy: 0.8082\n",
            "Epoch 91/130\n",
            "60/60 [==============================] - 59s 987ms/step - loss: 0.4983 - accuracy: 0.8266\n",
            "Epoch 92/130\n",
            "60/60 [==============================] - 58s 970ms/step - loss: 0.5274 - accuracy: 0.8112\n",
            "Epoch 93/130\n",
            "60/60 [==============================] - 59s 977ms/step - loss: 0.5198 - accuracy: 0.8198\n",
            "Epoch 94/130\n",
            "60/60 [==============================] - 56s 932ms/step - loss: 0.5134 - accuracy: 0.8190\n",
            "Epoch 95/130\n",
            "60/60 [==============================] - 56s 939ms/step - loss: 0.5243 - accuracy: 0.8148\n",
            "Epoch 96/130\n",
            "60/60 [==============================] - 58s 963ms/step - loss: 0.4981 - accuracy: 0.8250\n",
            "Epoch 97/130\n",
            "60/60 [==============================] - 58s 964ms/step - loss: 0.5103 - accuracy: 0.8199\n",
            "Epoch 98/130\n",
            "60/60 [==============================] - 56s 938ms/step - loss: 0.4996 - accuracy: 0.8234\n",
            "Epoch 99/130\n",
            "60/60 [==============================] - 58s 962ms/step - loss: 0.5048 - accuracy: 0.8225\n",
            "Epoch 100/130\n",
            "60/60 [==============================] - 57s 952ms/step - loss: 0.4795 - accuracy: 0.8305\n",
            "Epoch 101/130\n",
            "60/60 [==============================] - 59s 984ms/step - loss: 0.5154 - accuracy: 0.8204\n",
            "Epoch 102/130\n",
            "60/60 [==============================] - 57s 950ms/step - loss: 0.4990 - accuracy: 0.8220\n",
            "Epoch 103/130\n",
            "60/60 [==============================] - 57s 945ms/step - loss: 0.5019 - accuracy: 0.8223\n",
            "Epoch 104/130\n",
            "60/60 [==============================] - 58s 963ms/step - loss: 0.5050 - accuracy: 0.8181\n",
            "Epoch 105/130\n",
            "60/60 [==============================] - 58s 968ms/step - loss: 0.5100 - accuracy: 0.8196\n",
            "Epoch 106/130\n",
            "60/60 [==============================] - 58s 964ms/step - loss: 0.5204 - accuracy: 0.8124\n",
            "Epoch 107/130\n",
            "60/60 [==============================] - 57s 949ms/step - loss: 0.4986 - accuracy: 0.8280\n",
            "Epoch 108/130\n",
            "60/60 [==============================] - 59s 978ms/step - loss: 0.4857 - accuracy: 0.8249\n",
            "Epoch 109/130\n",
            "60/60 [==============================] - 58s 965ms/step - loss: 0.4949 - accuracy: 0.8280\n",
            "Epoch 110/130\n",
            "60/60 [==============================] - 56s 927ms/step - loss: 0.4953 - accuracy: 0.8264\n",
            "Epoch 111/130\n",
            "60/60 [==============================] - 57s 952ms/step - loss: 0.4995 - accuracy: 0.8270\n",
            "Epoch 112/130\n",
            "60/60 [==============================] - 57s 941ms/step - loss: 0.5015 - accuracy: 0.8179\n",
            "Epoch 113/130\n",
            "60/60 [==============================] - 57s 953ms/step - loss: 0.4945 - accuracy: 0.8272\n",
            "Epoch 114/130\n",
            "60/60 [==============================] - 57s 949ms/step - loss: 0.4918 - accuracy: 0.8283\n",
            "Epoch 115/130\n",
            "60/60 [==============================] - 58s 967ms/step - loss: 0.4850 - accuracy: 0.8362\n",
            "Epoch 116/130\n",
            "60/60 [==============================] - 57s 949ms/step - loss: 0.4981 - accuracy: 0.8270\n",
            "Epoch 117/130\n",
            "60/60 [==============================] - 59s 971ms/step - loss: 0.4929 - accuracy: 0.8310\n",
            "Epoch 118/130\n",
            "60/60 [==============================] - 57s 953ms/step - loss: 0.4728 - accuracy: 0.8341\n",
            "Epoch 119/130\n",
            "60/60 [==============================] - 56s 928ms/step - loss: 0.5041 - accuracy: 0.8192\n",
            "Epoch 120/130\n",
            "60/60 [==============================] - 58s 970ms/step - loss: 0.4916 - accuracy: 0.8218\n",
            "Epoch 121/130\n",
            "60/60 [==============================] - 59s 980ms/step - loss: 0.4790 - accuracy: 0.8315\n",
            "Epoch 122/130\n",
            "60/60 [==============================] - 58s 969ms/step - loss: 0.4942 - accuracy: 0.8271\n",
            "Epoch 123/130\n",
            "60/60 [==============================] - 57s 957ms/step - loss: 0.5064 - accuracy: 0.8234\n",
            "Epoch 124/130\n",
            "60/60 [==============================] - 58s 968ms/step - loss: 0.4757 - accuracy: 0.8298\n",
            "Epoch 125/130\n",
            "60/60 [==============================] - 59s 987ms/step - loss: 0.4830 - accuracy: 0.8342\n",
            "Epoch 126/130\n",
            "60/60 [==============================] - 58s 967ms/step - loss: 0.4773 - accuracy: 0.8329\n",
            "Epoch 127/130\n",
            "60/60 [==============================] - 60s 994ms/step - loss: 0.4976 - accuracy: 0.8271\n",
            "Epoch 128/130\n",
            "60/60 [==============================] - 58s 972ms/step - loss: 0.4910 - accuracy: 0.8270\n",
            "Epoch 129/130\n",
            "60/60 [==============================] - 60s 997ms/step - loss: 0.4631 - accuracy: 0.8379\n",
            "Epoch 130/130\n",
            "60/60 [==============================] - 60s 995ms/step - loss: 0.4957 - accuracy: 0.8268\n"
          ],
          "name": "stdout"
        },
        {
          "output_type": "execute_result",
          "data": {
            "text/plain": [
              "<tensorflow.python.keras.callbacks.History at 0x7f09e8a5db10>"
            ]
          },
          "metadata": {
            "tags": []
          },
          "execution_count": 11
        }
      ]
    },
    {
      "cell_type": "code",
      "metadata": {
        "colab": {
          "base_uri": "https://localhost:8080/"
        },
        "id": "6XVvlBgpOc4V",
        "outputId": "f94622fe-c1a4-4d43-b921-ab9dcc0c9119"
      },
      "source": [
        "# Оптимизируем модель с помощью TensorRT\n",
        "model.load_weights(path + 'mdl_wts.hdf5')\n",
        "\n",
        "model.save(path+'saved_model')\n",
        "\n",
        "converter = trt.TrtGraphConverterV2(input_saved_model_dir=path+'saved_model')\n",
        "converter.convert()\n",
        "converter.save(path+'saved_model_trt')\n",
        "\n",
        "model_trt = tf.keras.models.load_model(path+'saved_model_trt')"
      ],
      "execution_count": 12,
      "outputs": [
        {
          "output_type": "stream",
          "text": [
            "INFO:tensorflow:Assets written to: /content/drive/MyDrive/colab_data/diplom/saved_model/assets\n",
            "INFO:tensorflow:Linked TensorRT version: (0, 0, 0)\n",
            "INFO:tensorflow:Loaded TensorRT version: (0, 0, 0)\n",
            "INFO:tensorflow:Assets written to: /content/drive/MyDrive/colab_data/diplom/saved_model_trt/assets\n",
            "WARNING:tensorflow:SavedModel saved prior to TF 2.5 detected when loading Keras model. Please ensure that you are saving the model with model.save() or tf.keras.models.save_model(), *NOT* tf.saved_model.save(). To confirm, there should be a file named \"keras_metadata.pb\" in the SavedModel directory.\n"
          ],
          "name": "stdout"
        }
      ]
    },
    {
      "cell_type": "code",
      "metadata": {
        "colab": {
          "base_uri": "https://localhost:8080/"
        },
        "id": "OwTaoad4sIqq",
        "outputId": "02c8778a-2729-45d8-9e47-8cccec2fa42c"
      },
      "source": [
        "TEST_BATCH_SIZE = 100\n",
        "\n",
        "out = []\n",
        "\n",
        "imgs = []\n",
        "files = [] \n",
        "\n",
        "# Прогоняем все файлы для теста\n",
        "\n",
        "batch_num = 0\n",
        "\n",
        "for filepath in os.listdir(path_data+'test_kaggle/'):\n",
        "  files.append(filepath)\n",
        "  imgs.append((np.array(load_img(path_data+'test_kaggle/{0}'.format(filepath),\\\n",
        "                       color_mode='grayscale',\\\n",
        "                       target_size=(IMG_SIZE,IMG_SIZE)), dtype=np.float32) / 255.)[..., None])\n",
        "  \n",
        "  if len(imgs) == TEST_BATCH_SIZE:\n",
        "    imgs = np.array(imgs, dtype=np.float32)\n",
        "\n",
        "    predictions = model_trt(imgs)\n",
        "    predictions = [classes[predict] for predict in np.argmax(predictions, axis=1)]\n",
        "\n",
        "    out += list(zip(files, predictions))\n",
        "\n",
        "    imgs = []\n",
        "    files = []\n",
        "\n",
        "    batch_num += 1\n",
        "    print(batch_num)"
      ],
      "execution_count": 14,
      "outputs": [
        {
          "output_type": "stream",
          "text": [
            "1\n",
            "2\n",
            "3\n",
            "4\n",
            "5\n",
            "6\n",
            "7\n",
            "8\n",
            "9\n",
            "10\n",
            "11\n",
            "12\n",
            "13\n",
            "14\n",
            "15\n",
            "16\n",
            "17\n",
            "18\n",
            "19\n",
            "20\n",
            "21\n",
            "22\n",
            "23\n",
            "24\n",
            "25\n",
            "26\n",
            "27\n",
            "28\n",
            "29\n",
            "30\n",
            "31\n",
            "32\n",
            "33\n",
            "34\n",
            "35\n",
            "36\n",
            "37\n",
            "38\n",
            "39\n",
            "40\n",
            "41\n",
            "42\n",
            "43\n",
            "44\n",
            "45\n",
            "46\n",
            "47\n",
            "48\n",
            "49\n",
            "50\n"
          ],
          "name": "stdout"
        }
      ]
    },
    {
      "cell_type": "code",
      "metadata": {
        "id": "o2oOU6NHJ0Jy"
      },
      "source": [
        "# Записываем результат в csv файл\n",
        "\n",
        "out = pd.DataFrame(out, columns=['image_path', 'emotion'])\n",
        "out['sort_val'] = out.image_path.apply(lambda x: int(x.replace('.jpg', '')))\n",
        "out = out.sort_values('sort_val')\n",
        "out = out.drop('sort_val', 1)\n",
        "\n",
        "compression_opts = dict(method='zip', archive_name='out.csv') \n",
        "\n",
        "out.to_csv(path+'out.zip', index=False, compression=compression_opts)  "
      ],
      "execution_count": 15,
      "outputs": []
    }
  ]
}