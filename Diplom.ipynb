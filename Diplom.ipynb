{
  "nbformat": 4,
  "nbformat_minor": 0,
  "metadata": {
    "colab": {
      "name": "Diplom.ipynb",
      "provenance": [],
      "collapsed_sections": []
    },
    "kernelspec": {
      "name": "python3",
      "display_name": "Python 3"
    },
    "language_info": {
      "name": "python"
    },
    "accelerator": "GPU"
  },
  "cells": [
    {
      "cell_type": "code",
      "metadata": {
        "id": "mqco8fgnGilA",
        "colab": {
          "base_uri": "https://localhost:8080/"
        },
        "outputId": "33e78728-4e2c-48ba-ab32-1b2f6e22f609"
      },
      "source": [
        "!rm -r sample_data/"
      ],
      "execution_count": null,
      "outputs": [
        {
          "output_type": "stream",
          "text": [
            "rm: cannot remove 'sample_data/': No such file or directory\n"
          ],
          "name": "stdout"
        }
      ]
    },
    {
      "cell_type": "code",
      "metadata": {
        "colab": {
          "base_uri": "https://localhost:8080/"
        },
        "id": "pkMsXMuCGLcP",
        "outputId": "882e2967-af91-43e2-9ba6-0e452407901c"
      },
      "source": [
        "from google.colab import drive\n",
        "drive.mount('/content/drive')"
      ],
      "execution_count": null,
      "outputs": [
        {
          "output_type": "stream",
          "text": [
            "Drive already mounted at /content/drive; to attempt to forcibly remount, call drive.mount(\"/content/drive\", force_remount=True).\n"
          ],
          "name": "stdout"
        }
      ]
    },
    {
      "cell_type": "code",
      "metadata": {
        "id": "RdsNWm_8PKXn"
      },
      "source": [
        "path = '/content/drive/MyDrive/colab_data/diplom/'\n",
        "path_data = path + 'data/'"
      ],
      "execution_count": null,
      "outputs": []
    },
    {
      "cell_type": "code",
      "metadata": {
        "id": "esBuzQotGnLZ"
      },
      "source": [
        "# Раскомментировать, если данные упакованы в zip архив\n",
        "\n",
        "# !unzip $path'train.zip' -d $path\n",
        "# !unzip $path'test_kaggle.zip' -d $path\n",
        "# !unzip $path'skillbox-computer-vision-project.zip' -d $path''"
      ],
      "execution_count": null,
      "outputs": []
    },
    {
      "cell_type": "code",
      "metadata": {
        "id": "qzlxQ2_sF1tn"
      },
      "source": [
        "import matplotlib.pyplot as plt\n",
        "import numpy as np\n",
        "import pandas as pd\n",
        "import tensorflow as tf\n",
        "\n",
        "import os\n",
        "\n",
        "from tensorflow.keras import Model\n",
        "from tensorflow.keras.preprocessing.image import ImageDataGenerator\n",
        "from tensorflow.keras.preprocessing.image import load_img\n",
        "\n",
        "from tensorflow.keras.models import Sequential\n",
        "from tensorflow.keras.layers import Dense, Dropout, Flatten\n",
        "from tensorflow.keras.layers import Conv2D\n",
        "from tensorflow.keras.optimizers import Adam\n",
        "from tensorflow.keras.layers import MaxPooling2D\n",
        "from tensorflow.keras.callbacks import ModelCheckpoint\n",
        "from tensorflow.python.compiler.tensorrt import trt_convert as trt"
      ],
      "execution_count": 69,
      "outputs": []
    },
    {
      "cell_type": "code",
      "metadata": {
        "id": "-xUSt-GpHqO1"
      },
      "source": [
        "# Добавляем классы в словарь\n",
        "classes = {0: 'anger',\\\n",
        "           1: 'contempt',\\\n",
        "           2: 'disgust',\\\n",
        "           3: 'fear',\\\n",
        "           4: 'happy',\\\n",
        "           5: 'neutral',\\\n",
        "           6: 'sad',\\\n",
        "           7: 'surprise'}"
      ],
      "execution_count": 37,
      "outputs": []
    },
    {
      "cell_type": "code",
      "metadata": {
        "id": "-_zI-xez9sdt"
      },
      "source": [
        "#Константы\n",
        "\n",
        "BATCH_SIZE = 128\n",
        "IMG_SIZE = 48\n",
        "EPOCHS = 100\n",
        "STEPS_PER_EPOCH = 30"
      ],
      "execution_count": null,
      "outputs": []
    },
    {
      "cell_type": "code",
      "metadata": {
        "id": "anxd5zn3B2NA"
      },
      "source": [
        "#Модель\n",
        "\n",
        "model = Sequential()\n",
        "\n",
        "model.add(Conv2D(32, kernel_size=(3, 3), activation='relu', input_shape=(IMG_SIZE,IMG_SIZE,1)))\n",
        "model.add(Conv2D(64, kernel_size=(3, 3), activation='relu'))\n",
        "model.add(MaxPooling2D(pool_size=(2, 2)))\n",
        "model.add(Dropout(0.25))\n",
        "\n",
        "model.add(Conv2D(128, kernel_size=(3, 3), activation='relu'))\n",
        "model.add(MaxPooling2D(pool_size=(2, 2)))\n",
        "model.add(Conv2D(128, kernel_size=(3, 3), activation='relu'))\n",
        "model.add(MaxPooling2D(pool_size=(2, 2)))\n",
        "model.add(Dropout(0.25))\n",
        "\n",
        "model.add(Flatten())\n",
        "model.add(Dense(1024, activation='relu'))\n",
        "model.add(Dropout(0.5))\n",
        "model.add(Dense(2048, activation='relu'))\n",
        "model.add(Dense(8, activation='softmax'))\n",
        "\n",
        "#На случай, если необходимо заморозить слои\n",
        "\n",
        "# for l in model.layers[:-1]:\n",
        "  # l.trainable = False"
      ],
      "execution_count": null,
      "outputs": []
    },
    {
      "cell_type": "code",
      "metadata": {
        "colab": {
          "base_uri": "https://localhost:8080/"
        },
        "id": "ROS92NDoz8qI",
        "outputId": "bf40eb1f-20f9-4581-e8fc-d1e351705f5c"
      },
      "source": [
        "model.summary()"
      ],
      "execution_count": null,
      "outputs": [
        {
          "output_type": "stream",
          "text": [
            "Model: \"sequential\"\n",
            "_________________________________________________________________\n",
            "Layer (type)                 Output Shape              Param #   \n",
            "=================================================================\n",
            "conv2d (Conv2D)              (None, 46, 46, 32)        320       \n",
            "_________________________________________________________________\n",
            "conv2d_1 (Conv2D)            (None, 44, 44, 64)        18496     \n",
            "_________________________________________________________________\n",
            "max_pooling2d (MaxPooling2D) (None, 22, 22, 64)        0         \n",
            "_________________________________________________________________\n",
            "dropout (Dropout)            (None, 22, 22, 64)        0         \n",
            "_________________________________________________________________\n",
            "conv2d_2 (Conv2D)            (None, 20, 20, 128)       73856     \n",
            "_________________________________________________________________\n",
            "max_pooling2d_1 (MaxPooling2 (None, 10, 10, 128)       0         \n",
            "_________________________________________________________________\n",
            "conv2d_3 (Conv2D)            (None, 8, 8, 128)         147584    \n",
            "_________________________________________________________________\n",
            "max_pooling2d_2 (MaxPooling2 (None, 4, 4, 128)         0         \n",
            "_________________________________________________________________\n",
            "dropout_1 (Dropout)          (None, 4, 4, 128)         0         \n",
            "_________________________________________________________________\n",
            "flatten (Flatten)            (None, 2048)              0         \n",
            "_________________________________________________________________\n",
            "dense (Dense)                (None, 1024)              2098176   \n",
            "_________________________________________________________________\n",
            "dropout_2 (Dropout)          (None, 1024)              0         \n",
            "_________________________________________________________________\n",
            "dense_1 (Dense)              (None, 2048)              2099200   \n",
            "_________________________________________________________________\n",
            "dense_2 (Dense)              (None, 8)                 16392     \n",
            "=================================================================\n",
            "Total params: 4,454,024\n",
            "Trainable params: 4,454,024\n",
            "Non-trainable params: 0\n",
            "_________________________________________________________________\n"
          ],
          "name": "stdout"
        }
      ]
    },
    {
      "cell_type": "code",
      "metadata": {
        "colab": {
          "base_uri": "https://localhost:8080/"
        },
        "id": "mkr-tSyaIMar",
        "outputId": "c6f074d8-19a5-4392-8efe-86d99dc06273"
      },
      "source": [
        "# Создаём поток из фотографий\n",
        "train_datagen = ImageDataGenerator(rescale=1./255)\n",
        "\n",
        "train_generator = train_datagen.flow_from_directory(\n",
        "        path_data+'train',\n",
        "        target_size=(IMG_SIZE,IMG_SIZE),\n",
        "        batch_size=BATCH_SIZE,\n",
        "        color_mode=\"grayscale\",\n",
        "        class_mode='categorical')"
      ],
      "execution_count": null,
      "outputs": [
        {
          "output_type": "stream",
          "text": [
            "Found 14237 images belonging to 8 classes.\n"
          ],
          "name": "stdout"
        }
      ]
    },
    {
      "cell_type": "code",
      "metadata": {
        "colab": {
          "base_uri": "https://localhost:8080/"
        },
        "id": "g1JrYyNbv-Cr",
        "outputId": "caa6724d-10a8-4e08-8289-d97058055fe0"
      },
      "source": [
        "# Обучаем и сохраняем веса модели\n",
        "mcp = ModelCheckpoint(path + 'mdl_wts.hdf5',\\\n",
        "                      save_best_only=True,\\\n",
        "                      monitor='accuracy')\n",
        "opt = Adam(lr=0.0001, decay=1e-6)\n",
        "\n",
        "\n",
        "model.compile(loss='categorical_crossentropy',\\\n",
        "              optimizer=opt,\\\n",
        "              metrics=['accuracy'])\n",
        "model.fit(train_generator,\\\n",
        "          epochs=EPOCHS,\\\n",
        "          steps_per_epoch=STEPS_PER_EPOCH,\\\n",
        "          callbacks=[mcp])"
      ],
      "execution_count": null,
      "outputs": [
        {
          "output_type": "stream",
          "text": [
            "/usr/local/lib/python3.7/dist-packages/tensorflow/python/keras/optimizer_v2/optimizer_v2.py:375: UserWarning: The `lr` argument is deprecated, use `learning_rate` instead.\n",
            "  \"The `lr` argument is deprecated, use `learning_rate` instead.\")\n"
          ],
          "name": "stderr"
        },
        {
          "output_type": "stream",
          "text": [
            "Epoch 1/100\n",
            "30/30 [==============================] - 14s 442ms/step - loss: 1.3554 - accuracy: 0.5068\n",
            "Epoch 2/100\n",
            "30/30 [==============================] - 13s 434ms/step - loss: 0.8353 - accuracy: 0.6802\n",
            "Epoch 3/100\n",
            "30/30 [==============================] - 13s 438ms/step - loss: 0.7258 - accuracy: 0.7068\n",
            "Epoch 4/100\n",
            "30/30 [==============================] - 13s 447ms/step - loss: 0.6623 - accuracy: 0.7474\n",
            "Epoch 5/100\n",
            "30/30 [==============================] - 13s 420ms/step - loss: 0.6285 - accuracy: 0.7552\n",
            "Epoch 6/100\n",
            "30/30 [==============================] - 13s 449ms/step - loss: 0.6400 - accuracy: 0.7552\n",
            "Epoch 7/100\n",
            "30/30 [==============================] - 13s 437ms/step - loss: 0.5776 - accuracy: 0.7755\n",
            "Epoch 8/100\n",
            "30/30 [==============================] - 13s 448ms/step - loss: 0.5949 - accuracy: 0.7734\n",
            "Epoch 9/100\n",
            "30/30 [==============================] - 14s 449ms/step - loss: 0.5183 - accuracy: 0.7899\n",
            "Epoch 10/100\n",
            "30/30 [==============================] - 14s 447ms/step - loss: 0.5378 - accuracy: 0.7932\n",
            "Epoch 11/100\n",
            "30/30 [==============================] - 13s 442ms/step - loss: 0.5319 - accuracy: 0.8042\n",
            "Epoch 12/100\n",
            "30/30 [==============================] - 14s 469ms/step - loss: 0.5038 - accuracy: 0.8099\n",
            "Epoch 13/100\n",
            "30/30 [==============================] - 13s 446ms/step - loss: 0.5086 - accuracy: 0.8016\n",
            "Epoch 14/100\n",
            "30/30 [==============================] - 13s 422ms/step - loss: 0.4550 - accuracy: 0.8297\n",
            "Epoch 15/100\n",
            "30/30 [==============================] - 13s 436ms/step - loss: 0.4925 - accuracy: 0.8141\n",
            "Epoch 16/100\n",
            "30/30 [==============================] - 14s 460ms/step - loss: 0.4677 - accuracy: 0.8198\n",
            "Epoch 17/100\n",
            "30/30 [==============================] - 14s 460ms/step - loss: 0.5016 - accuracy: 0.8062\n",
            "Epoch 18/100\n",
            "30/30 [==============================] - 14s 457ms/step - loss: 0.4640 - accuracy: 0.8224\n",
            "Epoch 19/100\n",
            "30/30 [==============================] - 13s 429ms/step - loss: 0.4528 - accuracy: 0.8297\n",
            "Epoch 20/100\n",
            "30/30 [==============================] - 13s 440ms/step - loss: 0.4404 - accuracy: 0.8245\n",
            "Epoch 21/100\n",
            "30/30 [==============================] - 13s 439ms/step - loss: 0.4418 - accuracy: 0.8207\n",
            "Epoch 22/100\n",
            "30/30 [==============================] - 14s 464ms/step - loss: 0.4471 - accuracy: 0.8240\n",
            "Epoch 23/100\n",
            "30/30 [==============================] - 14s 462ms/step - loss: 0.4522 - accuracy: 0.8250\n",
            "Epoch 24/100\n",
            "30/30 [==============================] - 14s 466ms/step - loss: 0.4721 - accuracy: 0.8214\n",
            "Epoch 25/100\n",
            "30/30 [==============================] - 14s 452ms/step - loss: 0.4218 - accuracy: 0.8328\n",
            "Epoch 26/100\n",
            "30/30 [==============================] - 13s 427ms/step - loss: 0.4458 - accuracy: 0.8276\n",
            "Epoch 27/100\n",
            "30/30 [==============================] - 14s 469ms/step - loss: 0.4140 - accuracy: 0.8469\n",
            "Epoch 28/100\n",
            "30/30 [==============================] - 14s 481ms/step - loss: 0.4436 - accuracy: 0.8318\n",
            "Epoch 29/100\n",
            "30/30 [==============================] - 14s 475ms/step - loss: 0.4087 - accuracy: 0.8398\n",
            "Epoch 30/100\n",
            "30/30 [==============================] - 13s 445ms/step - loss: 0.4369 - accuracy: 0.8323\n",
            "Epoch 31/100\n",
            "30/30 [==============================] - 14s 474ms/step - loss: 0.4247 - accuracy: 0.8391\n",
            "Epoch 32/100\n",
            "30/30 [==============================] - 13s 444ms/step - loss: 0.4193 - accuracy: 0.8458\n",
            "Epoch 33/100\n",
            "30/30 [==============================] - 13s 443ms/step - loss: 0.4121 - accuracy: 0.8474\n",
            "Epoch 34/100\n",
            "30/30 [==============================] - 14s 464ms/step - loss: 0.4267 - accuracy: 0.8448\n",
            "Epoch 35/100\n",
            "30/30 [==============================] - 13s 442ms/step - loss: 0.4217 - accuracy: 0.8385\n",
            "Epoch 36/100\n",
            "30/30 [==============================] - 14s 466ms/step - loss: 0.3844 - accuracy: 0.8526\n",
            "Epoch 37/100\n",
            "30/30 [==============================] - 14s 452ms/step - loss: 0.4001 - accuracy: 0.8422\n",
            "Epoch 38/100\n",
            "30/30 [==============================] - 15s 486ms/step - loss: 0.3807 - accuracy: 0.8557\n",
            "Epoch 39/100\n",
            "30/30 [==============================] - 14s 473ms/step - loss: 0.3716 - accuracy: 0.8594\n",
            "Epoch 40/100\n",
            "30/30 [==============================] - 13s 423ms/step - loss: 0.4237 - accuracy: 0.8458\n",
            "Epoch 41/100\n",
            "30/30 [==============================] - 13s 428ms/step - loss: 0.3949 - accuracy: 0.8479\n",
            "Epoch 42/100\n",
            "30/30 [==============================] - 13s 439ms/step - loss: 0.3894 - accuracy: 0.8479\n",
            "Epoch 43/100\n",
            "30/30 [==============================] - 13s 435ms/step - loss: 0.3638 - accuracy: 0.8630\n",
            "Epoch 44/100\n",
            "30/30 [==============================] - 13s 432ms/step - loss: 0.3706 - accuracy: 0.8604\n",
            "Epoch 45/100\n",
            "30/30 [==============================] - 14s 454ms/step - loss: 0.3920 - accuracy: 0.8453\n",
            "Epoch 46/100\n",
            "30/30 [==============================] - 14s 452ms/step - loss: 0.3671 - accuracy: 0.8663\n",
            "Epoch 47/100\n",
            "30/30 [==============================] - 13s 448ms/step - loss: 0.3691 - accuracy: 0.8651\n",
            "Epoch 48/100\n",
            "30/30 [==============================] - 12s 399ms/step - loss: 0.3562 - accuracy: 0.8703\n",
            "Epoch 49/100\n",
            "30/30 [==============================] - 13s 438ms/step - loss: 0.3650 - accuracy: 0.8641\n",
            "Epoch 50/100\n",
            "30/30 [==============================] - 13s 442ms/step - loss: 0.3380 - accuracy: 0.8656\n",
            "Epoch 51/100\n",
            "30/30 [==============================] - 14s 456ms/step - loss: 0.3989 - accuracy: 0.8525\n",
            "Epoch 52/100\n",
            "30/30 [==============================] - 13s 423ms/step - loss: 0.3657 - accuracy: 0.8684\n",
            "Epoch 53/100\n",
            "30/30 [==============================] - 13s 444ms/step - loss: 0.3681 - accuracy: 0.8635\n",
            "Epoch 54/100\n",
            "30/30 [==============================] - 13s 427ms/step - loss: 0.3462 - accuracy: 0.8719\n",
            "Epoch 55/100\n",
            "30/30 [==============================] - 12s 397ms/step - loss: 0.3705 - accuracy: 0.8557\n",
            "Epoch 56/100\n",
            "30/30 [==============================] - 13s 429ms/step - loss: 0.3499 - accuracy: 0.8703\n",
            "Epoch 57/100\n",
            "30/30 [==============================] - 14s 456ms/step - loss: 0.3564 - accuracy: 0.8661\n",
            "Epoch 58/100\n",
            "30/30 [==============================] - 13s 417ms/step - loss: 0.3480 - accuracy: 0.8656\n",
            "Epoch 59/100\n",
            "30/30 [==============================] - 13s 436ms/step - loss: 0.3280 - accuracy: 0.8750\n",
            "Epoch 60/100\n",
            "30/30 [==============================] - 13s 424ms/step - loss: 0.3434 - accuracy: 0.8734\n",
            "Epoch 61/100\n",
            "30/30 [==============================] - 13s 432ms/step - loss: 0.3461 - accuracy: 0.8651\n",
            "Epoch 62/100\n",
            "30/30 [==============================] - 13s 454ms/step - loss: 0.3631 - accuracy: 0.8677\n",
            "Epoch 63/100\n",
            "30/30 [==============================] - 14s 465ms/step - loss: 0.3334 - accuracy: 0.8687\n",
            "Epoch 64/100\n",
            "30/30 [==============================] - 14s 456ms/step - loss: 0.3367 - accuracy: 0.8708\n",
            "Epoch 65/100\n",
            "30/30 [==============================] - 13s 425ms/step - loss: 0.3326 - accuracy: 0.8708\n",
            "Epoch 66/100\n",
            "30/30 [==============================] - 13s 430ms/step - loss: 0.3270 - accuracy: 0.8771\n",
            "Epoch 67/100\n",
            "30/30 [==============================] - 13s 430ms/step - loss: 0.3117 - accuracy: 0.8797\n",
            "Epoch 68/100\n",
            "30/30 [==============================] - 14s 478ms/step - loss: 0.3415 - accuracy: 0.8693\n",
            "Epoch 69/100\n",
            "30/30 [==============================] - 13s 432ms/step - loss: 0.3075 - accuracy: 0.8859\n",
            "Epoch 70/100\n",
            "30/30 [==============================] - 13s 439ms/step - loss: 0.3447 - accuracy: 0.8631\n",
            "Epoch 71/100\n",
            "30/30 [==============================] - 13s 424ms/step - loss: 0.3258 - accuracy: 0.8818\n",
            "Epoch 72/100\n",
            "30/30 [==============================] - 14s 454ms/step - loss: 0.3222 - accuracy: 0.8745\n",
            "Epoch 73/100\n",
            "30/30 [==============================] - 13s 444ms/step - loss: 0.3020 - accuracy: 0.8823\n",
            "Epoch 74/100\n",
            "30/30 [==============================] - 14s 453ms/step - loss: 0.2987 - accuracy: 0.8906\n",
            "Epoch 75/100\n",
            "30/30 [==============================] - 13s 424ms/step - loss: 0.3166 - accuracy: 0.8776\n",
            "Epoch 76/100\n",
            "30/30 [==============================] - 13s 431ms/step - loss: 0.2910 - accuracy: 0.8885\n",
            "Epoch 77/100\n",
            "30/30 [==============================] - 13s 440ms/step - loss: 0.3318 - accuracy: 0.8721\n",
            "Epoch 78/100\n",
            "30/30 [==============================] - 12s 405ms/step - loss: 0.2943 - accuracy: 0.8938\n",
            "Epoch 79/100\n",
            "30/30 [==============================] - 13s 445ms/step - loss: 0.3215 - accuracy: 0.8833\n",
            "Epoch 80/100\n",
            "30/30 [==============================] - 12s 413ms/step - loss: 0.3217 - accuracy: 0.8781\n",
            "Epoch 81/100\n",
            "30/30 [==============================] - 13s 428ms/step - loss: 0.3331 - accuracy: 0.8672\n",
            "Epoch 82/100\n",
            "30/30 [==============================] - 12s 409ms/step - loss: 0.2967 - accuracy: 0.8870\n",
            "Epoch 83/100\n",
            "30/30 [==============================] - 13s 419ms/step - loss: 0.3023 - accuracy: 0.8828\n",
            "Epoch 84/100\n",
            "30/30 [==============================] - 13s 433ms/step - loss: 0.2842 - accuracy: 0.8927\n",
            "Epoch 85/100\n",
            "30/30 [==============================] - 13s 426ms/step - loss: 0.3126 - accuracy: 0.8734\n",
            "Epoch 86/100\n",
            "30/30 [==============================] - 13s 434ms/step - loss: 0.2881 - accuracy: 0.8901\n",
            "Epoch 87/100\n",
            "30/30 [==============================] - 13s 438ms/step - loss: 0.2923 - accuracy: 0.8849\n",
            "Epoch 88/100\n",
            "30/30 [==============================] - 13s 436ms/step - loss: 0.3043 - accuracy: 0.8870\n",
            "Epoch 89/100\n",
            "30/30 [==============================] - 13s 426ms/step - loss: 0.2820 - accuracy: 0.8943\n",
            "Epoch 90/100\n",
            "30/30 [==============================] - 13s 446ms/step - loss: 0.3187 - accuracy: 0.8781\n",
            "Epoch 91/100\n",
            "30/30 [==============================] - 13s 420ms/step - loss: 0.2864 - accuracy: 0.8859\n",
            "Epoch 92/100\n",
            "30/30 [==============================] - 13s 434ms/step - loss: 0.2748 - accuracy: 0.8984\n",
            "Epoch 93/100\n",
            "30/30 [==============================] - 13s 445ms/step - loss: 0.2653 - accuracy: 0.9068\n",
            "Epoch 94/100\n",
            "30/30 [==============================] - 13s 437ms/step - loss: 0.2662 - accuracy: 0.8974\n",
            "Epoch 95/100\n",
            "30/30 [==============================] - 13s 429ms/step - loss: 0.2674 - accuracy: 0.8995\n",
            "Epoch 96/100\n",
            "30/30 [==============================] - 14s 477ms/step - loss: 0.3008 - accuracy: 0.8891\n",
            "Epoch 97/100\n",
            "30/30 [==============================] - 13s 441ms/step - loss: 0.2849 - accuracy: 0.8938\n",
            "Epoch 98/100\n",
            "30/30 [==============================] - 13s 439ms/step - loss: 0.2922 - accuracy: 0.8943\n",
            "Epoch 99/100\n",
            "30/30 [==============================] - 13s 431ms/step - loss: 0.2773 - accuracy: 0.8953\n",
            "Epoch 100/100\n",
            "30/30 [==============================] - 12s 413ms/step - loss: 0.2649 - accuracy: 0.8997\n"
          ],
          "name": "stdout"
        },
        {
          "output_type": "execute_result",
          "data": {
            "text/plain": [
              "<tensorflow.python.keras.callbacks.History at 0x7f5a0e3587d0>"
            ]
          },
          "metadata": {
            "tags": []
          },
          "execution_count": 41
        }
      ]
    },
    {
      "cell_type": "code",
      "metadata": {
        "colab": {
          "base_uri": "https://localhost:8080/"
        },
        "id": "6XVvlBgpOc4V",
        "outputId": "72a5d4e5-0941-4e0f-b136-521d8c5b01d9"
      },
      "source": [
        "# Оптимизируем модель с помощью TensorRT\n",
        "model.load_weights(path + 'mdl_wts.hdf5')\n",
        "\n",
        "model.save(path+'saved_model')\n",
        "\n",
        "converter = trt.TrtGraphConverterV2(input_saved_model_dir=path+'saved_model')\n",
        "converter.convert()\n",
        "converter.save(path+'saved_model_trt')\n",
        "\n",
        "model_trt = tf.keras.models.load_model(path+'saved_model_trt')"
      ],
      "execution_count": 70,
      "outputs": [
        {
          "output_type": "stream",
          "text": [
            "WARNING:tensorflow:Compiled the loaded model, but the compiled metrics have yet to be built. `model.compile_metrics` will be empty until you train or evaluate the model.\n",
            "INFO:tensorflow:Assets written to: /content/drive/MyDrive/colab_data/diplom/saved_model/assets\n",
            "INFO:tensorflow:Linked TensorRT version: (0, 0, 0)\n",
            "INFO:tensorflow:Loaded TensorRT version: (0, 0, 0)\n",
            "INFO:tensorflow:Assets written to: /content/drive/MyDrive/colab_data/diplom/saved_model_trt/assets\n",
            "WARNING:tensorflow:SavedModel saved prior to TF 2.5 detected when loading Keras model. Please ensure that you are saving the model with model.save() or tf.keras.models.save_model(), *NOT* tf.saved_model.save(). To confirm, there should be a file named \"keras_metadata.pb\" in the SavedModel directory.\n"
          ],
          "name": "stdout"
        }
      ]
    },
    {
      "cell_type": "code",
      "metadata": {
        "id": "IJjXd7o01_4E"
      },
      "source": [
        "TEST_BATCH_SIZE = 100\n",
        "\n",
        "out = []\n",
        "\n",
        "imgs = []\n",
        "files = [] \n",
        "\n",
        "# Прогоняем все файлы для теста\n",
        "\n",
        "for filepath in os.listdir(path_data+'test_kaggle/'):\n",
        "  files.append(filepath)\n",
        "  imgs.append((np.array(load_img(path_data+'test_kaggle/{0}'.format(filepath),\\\n",
        "                       color_mode='grayscale',\\\n",
        "                       target_size=(IMG_SIZE,IMG_SIZE)), dtype=np.float32) / 255.)[..., None])\n",
        "\n",
        "  if len(imgs) == TEST_BATCH_SIZE:\n",
        "    imgs = np.array(imgs, dtype=np.float32)\n",
        "\n",
        "    predictions = model_trt(imgs)\n",
        "    predictions = [classes[predict] for predict in np.argmax(predictions, axis=1)]\n",
        "\n",
        "    out += list(zip(files, predictions))\n",
        "\n",
        "    imgs = []\n",
        "    files = []"
      ],
      "execution_count": 71,
      "outputs": []
    },
    {
      "cell_type": "code",
      "metadata": {
        "id": "o2oOU6NHJ0Jy"
      },
      "source": [
        "# Записываем результат в csv файл\n",
        "\n",
        "out = pd.DataFrame(out, columns=['image_path', 'emotion'])\n",
        "out['sort_val'] = out.image_path.apply(lambda x: int(x.replace('.jpg', '')))\n",
        "out = out.sort_values('sort_val')\n",
        "out = out.drop('sort_val', 1)\n",
        "\n",
        "compression_opts = dict(method='zip', archive_name='out.csv') \n",
        "\n",
        "out.to_csv(path+'out.zip', index=False, compression=compression_opts)  "
      ],
      "execution_count": 72,
      "outputs": []
    }
  ]
}