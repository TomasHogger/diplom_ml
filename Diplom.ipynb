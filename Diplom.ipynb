{
  "nbformat": 4,
  "nbformat_minor": 0,
  "metadata": {
    "colab": {
      "name": "Diplom.ipynb",
      "provenance": [],
      "collapsed_sections": []
    },
    "kernelspec": {
      "display_name": "Python 3",
      "name": "python3"
    },
    "language_info": {
      "name": "python"
    },
    "accelerator": "GPU"
  },
  "cells": [
    {
      "cell_type": "code",
      "metadata": {
        "id": "mqco8fgnGilA"
      },
      "source": [
        "!rm -r /content/sample_data/"
      ],
      "execution_count": null,
      "outputs": []
    },
    {
      "cell_type": "code",
      "metadata": {
        "colab": {
          "base_uri": "https://localhost:8080/"
        },
        "id": "pkMsXMuCGLcP",
        "outputId": "71d4f0d7-e57c-408f-c235-bdb475b3f732"
      },
      "source": [
        "from google.colab import drive\n",
        "drive.mount('/content/drive')"
      ],
      "execution_count": null,
      "outputs": [
        {
          "output_type": "stream",
          "text": [
            "Drive already mounted at /content/drive; to attempt to forcibly remount, call drive.mount(\"/content/drive\", force_remount=True).\n"
          ],
          "name": "stdout"
        }
      ]
    },
    {
      "cell_type": "code",
      "metadata": {
        "id": "RdsNWm_8PKXn"
      },
      "source": [
        "path = '/content/drive/MyDrive/colab_data/diplom/'\n",
        "path_data = path + 'data/'"
      ],
      "execution_count": null,
      "outputs": []
    },
    {
      "cell_type": "code",
      "metadata": {
        "id": "Z5fQyDyvXWcB"
      },
      "source": [
        "#Константы\n",
        "BATCH_SIZE = 128\n",
        "EPOCHS = 130\n",
        "STEPS_PER_EPOCH = 60\n",
        "TEST_BATCH_SIZE = 100"
      ],
      "execution_count": null,
      "outputs": []
    },
    {
      "cell_type": "code",
      "metadata": {
        "id": "qzlxQ2_sF1tn"
      },
      "source": [
        "import matplotlib.pyplot as plt\n",
        "import numpy as np\n",
        "import pandas as pd\n",
        "import tensorflow as tf\n",
        "\n",
        "import os\n",
        "\n",
        "from tensorflow.keras import Model\n",
        "from tensorflow.keras.preprocessing.image import ImageDataGenerator\n",
        "from tensorflow.keras.preprocessing.image import load_img\n",
        "\n",
        "from tensorflow.keras.models import Sequential\n",
        "from tensorflow.keras.layers import Dense, Dropout, Flatten\n",
        "from tensorflow.keras.layers import Conv2D\n",
        "from tensorflow.keras.optimizers import Adam\n",
        "from tensorflow.keras.layers import MaxPooling2D\n",
        "from tensorflow.keras.callbacks import ModelCheckpoint\n",
        "from tensorflow.python.compiler.tensorrt import trt_convert as trt"
      ],
      "execution_count": null,
      "outputs": []
    },
    {
      "cell_type": "code",
      "metadata": {
        "id": "L4PpkdVGU7-Y"
      },
      "source": [
        "class EmotionModel(tf.keras.Model):\n",
        "  def __init__(self, weight_path:str=None, atulapra_weight_path:str=None, ):\n",
        "    super(EmotionModel, self).__init__()\n",
        "    \n",
        "    # Словарь классов\n",
        "    self.classes = {0: 'anger',\\\n",
        "           1: 'contempt',\\\n",
        "           2: 'disgust',\\\n",
        "           3: 'fear',\\\n",
        "           4: 'happy',\\\n",
        "           5: 'neutral',\\\n",
        "           6: 'sad',\\\n",
        "           7: 'surprise',\n",
        "           8: 'uncertain'}\n",
        "   \n",
        "    self.IMG_SIZE = 48\n",
        "\n",
        "    self.model = Sequential()\n",
        "\n",
        "    self.model.add(Conv2D(32, kernel_size=(3, 3), activation='relu',\\\n",
        "                          input_shape=(self.IMG_SIZE, self.IMG_SIZE,1)))\n",
        "    self.model.add(Conv2D(64, kernel_size=(3, 3), activation='relu'))\n",
        "    self.model.add(MaxPooling2D(pool_size=(2, 2)))\n",
        "    self.model.add(Dropout(0.25))\n",
        "\n",
        "    self.model.add(Conv2D(128, kernel_size=(3, 3), activation='relu'))\n",
        "    self.model.add(MaxPooling2D(pool_size=(2, 2)))\n",
        "    self.model.add(Conv2D(128, kernel_size=(3, 3), activation='relu'))\n",
        "    self.model.add(MaxPooling2D(pool_size=(2, 2)))\n",
        "    self.model.add(Dropout(0.25))\n",
        "\n",
        "    self.model.add(Flatten())\n",
        "    self.model.add(Dense(1024, activation='relu'))\n",
        "    self.model.add(Dropout(0.5))\n",
        "\n",
        "    # Применл transfer learning. За основу была взята модель https://github.com/atulapra/Emotion-detection\n",
        "    if atulapra_weight_path is not None:\n",
        "      self.model.add(Dense(7, activation='softmax'))\n",
        "      self.model.load_weights(atulapra_weight_path)\n",
        "      self.model.pop()\n",
        "\n",
        "    self.model.add(Dense(9, activation='softmax'))\n",
        "\n",
        "    self.model.load_weights(path + 'mdl_wts.hdf5')\n",
        "  \n",
        "  def call(self, input):\n",
        "    return self.model(input)\n",
        "\n",
        "  # Создаём поток из фотографий\n",
        "  def create_generator(self, data_path, batch_size):\n",
        "    train_datagen = ImageDataGenerator(rescale=1./255)\n",
        "\n",
        "    return train_datagen.flow_from_directory(\n",
        "        data_path,\n",
        "        target_size=(self.IMG_SIZE, self.IMG_SIZE),\n",
        "        batch_size=batch_size,\n",
        "        color_mode=\"grayscale\",\n",
        "        class_mode='categorical')\n",
        "    \n",
        "  def preprocess_image(self, img_path):\n",
        "    return (np.array(load_img(img_path,\\\n",
        "                     color_mode='grayscale',\\\n",
        "                     target_size=(self.IMG_SIZE, self.IMG_SIZE)),\\\n",
        "                     dtype=np.float32) / 255.)[..., None]\n",
        "  \n",
        "  def class_by_index(self, index):\n",
        "    return self.classes[index]\n",
        "\n",
        "  def set_opt_model(self, opt_model):\n",
        "    self.model = opt_model"
      ],
      "execution_count": null,
      "outputs": []
    },
    {
      "cell_type": "code",
      "metadata": {
        "id": "AlP4ygsrYRaB"
      },
      "source": [
        "def fit_model(model, generator, epochs, steps_per_epoch, weight_save_path):\n",
        "  mcp = ModelCheckpoint(weight_save_path,\\\n",
        "                      save_best_only=True,\\\n",
        "                      monitor='accuracy')\n",
        "  \n",
        "  opt = Adam(lr=0.0001, decay=1e-6)\n",
        "\n",
        "  model.compile(loss='categorical_crossentropy',\\\n",
        "              optimizer=opt,\\\n",
        "              metrics=['accuracy'])\n",
        "  \n",
        "  model.fit(generator,\\\n",
        "          epochs=epochs,\\\n",
        "          steps_per_epoch=steps_per_epoch,\\\n",
        "          callbacks=[mcp])"
      ],
      "execution_count": null,
      "outputs": []
    },
    {
      "cell_type": "code",
      "metadata": {
        "id": "zfLMoNIgbeZN"
      },
      "source": [
        "# Оптимизируем модель с помощью TensorRT\n",
        "def optimize_model(model, path_to_save):\n",
        "  model.save(path_to_save+'saved_model')\n",
        "  converter = trt.TrtGraphConverterV2(input_saved_model_dir=path_to_save+'saved_model')\n",
        "  converter.convert()\n",
        "  converter.save(path_to_save+'saved_model_trt')\n",
        "  model_trt = tf.keras.models.load_model(path_to_save+'saved_model_trt')\n",
        "  return model_trt"
      ],
      "execution_count": null,
      "outputs": []
    },
    {
      "cell_type": "code",
      "metadata": {
        "id": "qQrXMvcicMTv"
      },
      "source": [
        "def predict(model, imgs, files):\n",
        "  imgs = np.array(imgs, dtype=np.float32)\n",
        "  predictions = model(imgs)\n",
        "  predictions = [model.class_by_index(predict) for predict in np.argmax(predictions, axis=1)]\n",
        "  return list(zip(files, predictions))\n",
        "\n",
        "def predict_classes(model, path_data, test_batch_size):\n",
        "  out = []\n",
        "  imgs = []\n",
        "  files = [] \n",
        "\n",
        "  # Прогоняем все файлы для теста\n",
        "\n",
        "  for filepath in os.listdir(path_data):\n",
        "    files.append(filepath)\n",
        "\n",
        "    imgs.append(model.preprocess_image(path_data+'/{0}'.format(filepath)))\n",
        "    \n",
        "    if len(imgs) == test_batch_size:\n",
        "      out += predict(model, imgs, files)\n",
        "      imgs = []\n",
        "      files = []\n",
        "\n",
        "  if len(imgs) != 0:\n",
        "    out += predict(model, imgs, files)\n",
        "\n",
        "  out = pd.DataFrame(out, columns=['image_path', 'emotion'])\n",
        "  out['sort_val'] = out.image_path.apply(lambda x: int(x.replace('.jpg', '')))\n",
        "  out = out.sort_values('sort_val')\n",
        "  out = out.drop('sort_val', 1)\n",
        "\n",
        "  return out"
      ],
      "execution_count": null,
      "outputs": []
    },
    {
      "cell_type": "code",
      "metadata": {
        "id": "bQTV9qKUe-2t"
      },
      "source": [
        "def save_out(out, path):\n",
        "  compression_opts = dict(method='zip', archive_name='out.csv') \n",
        "  out.to_csv(path, index=False, compression=compression_opts)  "
      ],
      "execution_count": null,
      "outputs": []
    },
    {
      "cell_type": "code",
      "metadata": {
        "id": "kpbwcgRNbKaR"
      },
      "source": [
        "fit = False\n",
        "\n",
        "# Обучать или предсказывать\n",
        "if fit:\n",
        "  model = EmotionModel(path+'mdl_wts.hdf5', path+'model.h5')\n",
        "  train_generator = model.create_generator(path_data+'train', BATCH_SIZE)\n",
        "  fit_model(model, train_generator, EPOCHS, STEPS_PER_EPOCH, path+'mdl_wts.hdf5')\n",
        "else:\n",
        "  model = EmotionModel(path+'mdl_wts.hdf5')\n",
        "  opt_model = optimize_model(model.model, path)\n",
        "  out = predict_classes(model, path_data+'test_kaggle/', TEST_BATCH_SIZE)\n",
        "  save_out(out, path+'out.zip')"
      ],
      "execution_count": null,
      "outputs": []
    }
  ]
}